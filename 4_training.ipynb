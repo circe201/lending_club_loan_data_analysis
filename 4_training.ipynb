{
 "cells": [
  {
   "cell_type": "code",
   "execution_count": 1,
   "metadata": {},
   "outputs": [],
   "source": [
    "import pandas as pd\n",
    "import numpy as np\n",
    "import matplotlib.pyplot as plt\n",
    "import seaborn as sns"
   ]
  },
  {
   "cell_type": "code",
   "execution_count": 2,
   "metadata": {},
   "outputs": [
    {
     "data": {
      "text/plain": [
       "31"
      ]
     },
     "execution_count": 2,
     "metadata": {},
     "output_type": "execute_result"
    }
   ],
   "source": [
    "import gc\n",
    "gc.collect()"
   ]
  },
  {
   "cell_type": "code",
   "execution_count": 3,
   "metadata": {},
   "outputs": [],
   "source": [
    "data = pd.read_csv(r'./input/lending-club-loan-data/loan_encoded.csv', low_memory=False)\n",
    "data = data.drop(['Unnamed: 0'],axis=1)"
   ]
  },
  {
   "cell_type": "code",
   "execution_count": 4,
   "metadata": {},
   "outputs": [
    {
     "data": {
      "text/plain": [
       "0    1961647\n",
       "1     299021\n",
       "Name: Loan_Category_Bad, dtype: int64"
      ]
     },
     "execution_count": 4,
     "metadata": {},
     "output_type": "execute_result"
    }
   ],
   "source": [
    "data['Loan_Category_Bad'].value_counts()"
   ]
  },
  {
   "cell_type": "code",
   "execution_count": 5,
   "metadata": {},
   "outputs": [],
   "source": [
    "data['Loan_Category_Healthy'].value_counts()\n",
    "data = data.drop(['Loan_Category_Healthy'],axis=1)"
   ]
  },
  {
   "cell_type": "markdown",
   "metadata": {},
   "source": [
    "# Approach 1 - Take Equal number of Health & Unhealth Loan records for Training"
   ]
  },
  {
   "cell_type": "code",
   "execution_count": 6,
   "metadata": {},
   "outputs": [
    {
     "name": "stdout",
     "output_type": "stream",
     "text": [
      "1    299021\n",
      "0    290000\n",
      "Name: Loan_Category_Bad, dtype: int64\n"
     ]
    }
   ],
   "source": [
    "data_good_loans = data.loc[data['Loan_Category_Bad']==0]\n",
    "data_bad_loans = data.loc[data['Loan_Category_Bad']==1]\n",
    "\n",
    "data_good_loans = data_good_loans.iloc[0:290000]\n",
    "data_final = pd.concat([data_good_loans, data_bad_loans])\n",
    "\n",
    "y = data_final['Loan_Category_Bad']\n",
    "X = data_final.drop(['Loan_Category_Bad'],axis=1)\n",
    "\n",
    "print (y.value_counts())"
   ]
  },
  {
   "cell_type": "markdown",
   "metadata": {},
   "source": [
    "### Split data in test & train"
   ]
  },
  {
   "cell_type": "code",
   "execution_count": 7,
   "metadata": {},
   "outputs": [],
   "source": [
    "from sklearn.model_selection import train_test_split\n",
    "trainX, testX, trainY, testY = train_test_split(X,y)"
   ]
  },
  {
   "cell_type": "markdown",
   "metadata": {},
   "source": [
    "### Train & Predict Using Logistic Regression"
   ]
  },
  {
   "cell_type": "code",
   "execution_count": 8,
   "metadata": {},
   "outputs": [
    {
     "name": "stderr",
     "output_type": "stream",
     "text": [
      "C:\\MachineLearning\\anaconda\\lib\\site-packages\\sklearn\\linear_model\\logistic.py:758: ConvergenceWarning: lbfgs failed to converge. Increase the number of iterations.\n",
      "  \"of iterations.\", ConvergenceWarning)\n"
     ]
    }
   ],
   "source": [
    "from sklearn.linear_model import LogisticRegression\n",
    "\n",
    "lr = LogisticRegression(solver='lbfgs')\n",
    "lr.fit(trainX, trainY)\n",
    "predictedY = lr.predict(testX)"
   ]
  },
  {
   "cell_type": "markdown",
   "metadata": {},
   "source": [
    "# Approach 2 - Take UnEqual number of Health & Unhealth Loan records for Training but use class_weight as balanced"
   ]
  },
  {
   "cell_type": "markdown",
   "metadata": {},
   "source": [
    "### Split data in test & train"
   ]
  },
  {
   "cell_type": "code",
   "execution_count": 21,
   "metadata": {},
   "outputs": [
    {
     "name": "stdout",
     "output_type": "stream",
     "text": [
      "0    1961647\n",
      "1     299021\n",
      "Name: Loan_Category_Bad, dtype: int64\n"
     ]
    }
   ],
   "source": [
    "data_good_loans = data.loc[data['Loan_Category_Bad']==0]\n",
    "data_bad_loans = data.loc[data['Loan_Category_Bad']==1]\n",
    "\n",
    "data_final = pd.concat([data_good_loans, data_bad_loans])\n",
    "\n",
    "y = data_final['Loan_Category_Bad']\n",
    "X = data_final.drop(['Loan_Category_Bad'],axis=1)\n",
    "\n",
    "print (y.value_counts())\n",
    "from sklearn.model_selection import train_test_split\n",
    "trainX_2, testX_2, trainY_2, testY_2 = train_test_split(X,y)"
   ]
  },
  {
   "cell_type": "markdown",
   "metadata": {},
   "source": [
    "### Train & Predict Using Logistic Regression"
   ]
  },
  {
   "cell_type": "code",
   "execution_count": 22,
   "metadata": {},
   "outputs": [
    {
     "name": "stderr",
     "output_type": "stream",
     "text": [
      "C:\\MachineLearning\\anaconda\\lib\\site-packages\\sklearn\\linear_model\\logistic.py:758: ConvergenceWarning: lbfgs failed to converge. Increase the number of iterations.\n",
      "  \"of iterations.\", ConvergenceWarning)\n"
     ]
    }
   ],
   "source": [
    "from sklearn.linear_model import LogisticRegression\n",
    "\n",
    "lr_2 = LogisticRegression(class_weight='balanced', solver='lbfgs')\n",
    "lr_2.fit(trainX_2, trainY_2)\n",
    "predictedY_2 = lr_2.predict(testX_2)"
   ]
  },
  {
   "cell_type": "markdown",
   "metadata": {},
   "source": [
    "# Evaluate Training Performance\n",
    "\n",
    "#### Accuracy, Precision, Recall, F1-Score and Confusion Matrix\n",
    "\n",
    "#### Plot ROC (= FPR vs TPR) Graph\n",
    "\n",
    "    - ROC graph is a plot of different values of FPR & TPR for different values of Threshold on which model is evaluated\n",
    "    - For e.g. if Threshold is set to .5 for classification we would get one set of values for FPR and TPR\n",
    "    - if Threshold is set to 0.6 we would get another set of values for FPR and TPR\n",
    "    - So, all of these values of FPR and TPR when plotted give an ROC curve\n",
    "    - What we are looking for are those values of FPR & TPR which are as close to the top left corner of the graph - Why ? Because at top left corner our TPR would be maximum and FPR would be minimum. Which means that the model is giving least False Positives and maximum number of True Postives"
   ]
  },
  {
   "cell_type": "code",
   "execution_count": 23,
   "metadata": {},
   "outputs": [
    {
     "name": "stdout",
     "output_type": "stream",
     "text": [
      "Confusion matrix using balanced dataset (Approach 1) \n",
      " [[71666   949]\n",
      " [ 2341 72300]]\n",
      "Accuracy of LogisticRegression model using balanced dataset (Approach 1) is  0.9776579562123106\n",
      "Recall of LogisticRegression model using balanced dataset (Approach 1)   0.9686365402392787\n",
      "F1-score of LogisticRegression model using balanced dataset (Approach 1)   0.9777537358847792\n",
      "\n",
      " ************************************************************************\n",
      "Confusion matrix using imbalanced dataset (Approach 2) \n",
      " [[444298  46010]\n",
      " [  9739  65120]]\n",
      "Accuracy of LogisticRegression model using imbalanced dataset (Approach 2) is  0.9013583595645182\n",
      "Recall of LogisticRegression model using imbalanced dataset (Approach 2)   0.8699020825819207\n",
      "F1-score of LogisticRegression model using imbalanced dataset (Approach 2)   0.7002564667802934\n"
     ]
    }
   ],
   "source": [
    "from sklearn.metrics import accuracy_score, recall_score, f1_score\n",
    "from sklearn.metrics import confusion_matrix\n",
    "\n",
    "\n",
    "print ('Confusion matrix using balanced dataset (Approach 1) \\n', confusion_matrix(testY, predictedY))\n",
    "print ('Accuracy of LogisticRegression model using balanced dataset (Approach 1) is ',accuracy_score(testY, predictedY))\n",
    "print ('Recall of LogisticRegression model using balanced dataset (Approach 1)  ',recall_score(testY, predictedY))\n",
    "print ('F1-score of LogisticRegression model using balanced dataset (Approach 1)  ',f1_score(testY, predictedY))\n",
    "print ('\\n ************************************************************************')\n",
    "print ('Confusion matrix using imbalanced dataset (Approach 2) \\n', confusion_matrix(testY_2, predictedY_2))\n",
    "print ('Accuracy of LogisticRegression model using imbalanced dataset (Approach 2) is ',accuracy_score(testY_2, predictedY_2))\n",
    "print ('Recall of LogisticRegression model using imbalanced dataset (Approach 2)  ',recall_score(testY_2, predictedY_2))\n",
    "print ('F1-score of LogisticRegression model using imbalanced dataset (Approach 2)  ',f1_score(testY_2, predictedY_2))"
   ]
  },
  {
   "cell_type": "code",
   "execution_count": 24,
   "metadata": {},
   "outputs": [
    {
     "data": {
      "image/png": "[encoded data removed]",
      "text/plain": [
       "<Figure size 432x288 with 1 Axes>"
      ]
     },
     "metadata": {
      "needs_background": "light"
     },
     "output_type": "display_data"
    },
    {
     "data": {
      "image/png": "[encoded data removed]",
      "text/plain": [
       "<Figure size 432x288 with 1 Axes>"
      ]
     },
     "metadata": {
      "needs_background": "light"
     },
     "output_type": "display_data"
    }
   ],
   "source": [
    "from sklearn.metrics import roc_curve\n",
    "\n",
    "\n",
    "def show_roc_curve(falsePositiveRate, truePositiveRate):\n",
    "    plt.plot(falsePositiveRate, truePositiveRate)\n",
    "    plt.xlabel('False Positive Rate')\n",
    "    plt.ylabel('True Positive Rate')\n",
    "    plt.plot([0,1],[0,1],'r--')\n",
    "    plt.xlim([-0.001,1])\n",
    "    plt.ylim([0,1.001])\n",
    "    plt.show()\n",
    "    \n",
    "fpr, tpr, threshold = roc_curve(testY, predictedY)\n",
    "fpr_2, tpr_2, threshold_2 = roc_curve(testY_2, predictedY_2)\n",
    "show_roc_curve(fpr, tpr)\n",
    "show_roc_curve(fpr_2, tpr_2)"
   ]
  },
  {
   "cell_type": "code",
   "execution_count": 13,
   "metadata": {},
   "outputs": [],
   "source": [
    "import pickle\n",
    "\n",
    "# save best model to file\n",
    "pickle.dump(lr_2, open(\"lendingclub.pickle.dat\", \"wb\"))"
   ]
  },
  {
   "cell_type": "markdown",
   "metadata": {},
   "source": [
    "# Neural Model - UnBalanced Dataset - Approach 3"
   ]
  },
  {
   "cell_type": "code",
   "execution_count": 25,
   "metadata": {},
   "outputs": [
    {
     "name": "stdout",
     "output_type": "stream",
     "text": [
      "0    1961647\n",
      "1     299021\n",
      "Name: Loan_Category_Bad, dtype: int64\n"
     ]
    }
   ],
   "source": [
    "import tensorflow as tf\n",
    "\n",
    "#Convert X,y dataframes to np.array\n",
    "\n",
    "data_good_loans = data.loc[data['Loan_Category_Bad']==0]\n",
    "data_bad_loans = data.loc[data['Loan_Category_Bad']==1]\n",
    "\n",
    "data_final = pd.concat([data_good_loans, data_bad_loans])\n",
    "\n",
    "y = data_final['Loan_Category_Bad']\n",
    "X = data_final.drop(['Loan_Category_Bad'],axis=1)\n",
    "\n",
    "print (y.value_counts())\n",
    "\n",
    "X_list = X.values\n",
    "y_list = np.array(y)"
   ]
  },
  {
   "cell_type": "code",
   "execution_count": 26,
   "metadata": {},
   "outputs": [],
   "source": [
    "trainX_nn, testX_nn, trainY_nn, testY_nn = train_test_split(X_list,y_list)"
   ]
  },
  {
   "cell_type": "code",
   "execution_count": 27,
   "metadata": {},
   "outputs": [
    {
     "name": "stdout",
     "output_type": "stream",
     "text": [
      "Train on 1186850 samples, validate on 508651 samples\n",
      "Epoch 1/20\n",
      "1186850/1186850 [==============================] - 66s 56us/sample - loss: 0.2289 - accuracy: 0.9579 - val_loss: 2.3077 - val_accuracy: 0.4286\n",
      "Epoch 2/20\n",
      "1186850/1186850 [==============================] - 66s 56us/sample - loss: 0.0945 - accuracy: 0.9747 - val_loss: 0.0673 - val_accuracy: 0.9841\n",
      "Epoch 3/20\n",
      "1186850/1186850 [==============================] - 65s 55us/sample - loss: 0.0865 - accuracy: 0.9776 - val_loss: 0.0661 - val_accuracy: 0.9828\n",
      "Epoch 4/20\n",
      "1186850/1186850 [==============================] - 64s 54us/sample - loss: 0.0890 - accuracy: 0.9765 - val_loss: 0.0621 - val_accuracy: 0.9860\n",
      "Epoch 5/20\n",
      "1186850/1186850 [==============================] - 63s 53us/sample - loss: 0.0917 - accuracy: 0.9752 - val_loss: 0.0645 - val_accuracy: 0.9835\n",
      "Epoch 6/20\n",
      "1186850/1186850 [==============================] - 65s 55us/sample - loss: 0.0756 - accuracy: 0.9811 - val_loss: 0.0625 - val_accuracy: 0.9866\n",
      "Epoch 7/20\n",
      "1186850/1186850 [==============================] - 64s 54us/sample - loss: 0.0786 - accuracy: 0.9801 - val_loss: 0.0603 - val_accuracy: 0.9865\n",
      "Epoch 8/20\n",
      "1186850/1186850 [==============================] - 67s 56us/sample - loss: 0.0741 - accuracy: 0.9818 - val_loss: 0.0813 - val_accuracy: 0.9780\n",
      "Epoch 9/20\n",
      "1186850/1186850 [==============================] - 64s 54us/sample - loss: 0.0726 - accuracy: 0.9823 - val_loss: 0.0591 - val_accuracy: 0.9873\n",
      "Epoch 10/20\n",
      "1186850/1186850 [==============================] - 64s 54us/sample - loss: 0.0725 - accuracy: 0.9824 - val_loss: 0.0576 - val_accuracy: 0.9874\n",
      "Epoch 11/20\n",
      "1186850/1186850 [==============================] - 65s 54us/sample - loss: 0.0704 - accuracy: 0.9830 - val_loss: 0.0578 - val_accuracy: 0.9874\n",
      "Epoch 12/20\n",
      "1186850/1186850 [==============================] - 64s 54us/sample - loss: 0.0718 - accuracy: 0.9828 - val_loss: 0.0568 - val_accuracy: 0.9875\n",
      "Epoch 13/20\n",
      "1186850/1186850 [==============================] - 65s 55us/sample - loss: 0.0695 - accuracy: 0.9835 - val_loss: 0.0616 - val_accuracy: 0.9869\n",
      "Epoch 14/20\n",
      "1186850/1186850 [==============================] - 64s 54us/sample - loss: 0.0691 - accuracy: 0.9838 - val_loss: 0.0570 - val_accuracy: 0.9871\n",
      "Epoch 15/20\n",
      "1186850/1186850 [==============================] - 64s 54us/sample - loss: 0.0715 - accuracy: 0.9829 - val_loss: 0.0562 - val_accuracy: 0.9876\n",
      "Epoch 16/20\n",
      "1186850/1186850 [==============================] - 64s 54us/sample - loss: 0.0672 - accuracy: 0.9841 - val_loss: 0.0719 - val_accuracy: 0.9827\n",
      "Epoch 17/20\n",
      "1186850/1186850 [==============================] - 64s 54us/sample - loss: 0.0679 - accuracy: 0.9841 - val_loss: 0.0653 - val_accuracy: 0.9848\n",
      "Epoch 18/20\n",
      "1186850/1186850 [==============================] - 65s 55us/sample - loss: 0.0689 - accuracy: 0.9839 - val_loss: 0.0620 - val_accuracy: 0.9851\n",
      "Epoch 19/20\n",
      "1186850/1186850 [==============================] - 64s 54us/sample - loss: 0.0667 - accuracy: 0.9845 - val_loss: 0.0738 - val_accuracy: 0.9825\n",
      "Epoch 20/20\n",
      "1186850/1186850 [==============================] - 64s 54us/sample - loss: 0.0659 - accuracy: 0.9847 - val_loss: 0.0734 - val_accuracy: 0.9804\n",
      "Model: \"sequential_1\"\n",
      "_________________________________________________________________\n",
      "Layer (type)                 Output Shape              Param #   \n",
      "=================================================================\n",
      "dense_3 (Dense)              multiple                  26000     \n",
      "_________________________________________________________________\n",
      "dense_4 (Dense)              multiple                  30150     \n",
      "_________________________________________________________________\n",
      "dense_5 (Dense)              multiple                  151       \n",
      "=================================================================\n",
      "Total params: 56,301\n",
      "Trainable params: 56,301\n",
      "Non-trainable params: 0\n",
      "_________________________________________________________________\n"
     ]
    }
   ],
   "source": [
    "model = tf.keras.models.Sequential()\n",
    "model.add(tf.keras.layers.Dense(200, activation='relu'))\n",
    "model.add(tf.keras.layers.Dense(150, activation='relu'))\n",
    "model.add(tf.keras.layers.Dense(1, activation='sigmoid'))\n",
    "\n",
    "model.compile(optimizer='adam', loss='binary_crossentropy', metrics=['accuracy'])\n",
    "history = model.fit (trainX_nn,trainY_nn, epochs=20, batch_size=32, validation_split=0.3)\n",
    "model.summary()"
   ]
  },
  {
   "cell_type": "code",
   "execution_count": 28,
   "metadata": {},
   "outputs": [],
   "source": [
    "predictedY_nn = model.predict(testX_nn)"
   ]
  },
  {
   "cell_type": "code",
   "execution_count": 29,
   "metadata": {},
   "outputs": [],
   "source": [
    "predictedY_nn_argmaxed = []\n",
    "for p in predictedY_nn:\n",
    "    if p>.5 :\n",
    "        p = 1\n",
    "    else :\n",
    "        p =0\n",
    "    predictedY_nn_argmaxed.append(p)"
   ]
  },
  {
   "cell_type": "code",
   "execution_count": 30,
   "metadata": {},
   "outputs": [
    {
     "name": "stdout",
     "output_type": "stream",
     "text": [
      "Confusion Matrix of NN model is \n",
      " [[490630     62]\n",
      " [ 10882  63593]]\n",
      "Accuracy of NN model is  0.9806358120697068\n",
      "Recall of NN model is  0.8538838536421618\n",
      "F1-score of NN model is  0.9207702888583218\n"
     ]
    }
   ],
   "source": [
    "print ('Confusion Matrix of NN model is \\n',confusion_matrix(testY_nn, predictedY_nn_argmaxed))\n",
    "print ('Accuracy of NN model is ',accuracy_score(testY_nn, predictedY_nn_argmaxed))\n",
    "print ('Recall of NN model is ',recall_score(testY_nn, predictedY_nn_argmaxed))\n",
    "print ('F1-score of NN model is ',f1_score(testY_nn, predictedY_nn_argmaxed))"
   ]
  },
  {
   "cell_type": "code",
   "execution_count": 31,
   "metadata": {},
   "outputs": [
    {
     "data": {
      "image/png": "[encoded data removed]",
      "text/plain": [
       "<Figure size 432x288 with 1 Axes>"
      ]
     },
     "metadata": {
      "needs_background": "light"
     },
     "output_type": "display_data"
    }
   ],
   "source": [
    "fpr_nn, tpr_nn, threshold_nn = roc_curve(testY_nn, predictedY_nn_argmaxed)\n",
    "show_roc_curve(fpr_nn, tpr_nn)\n"
   ]
  },
  {
   "cell_type": "markdown",
   "metadata": {},
   "source": [
    "# Neural Model - Balanced Dataset - Approach 4"
   ]
  },
  {
   "cell_type": "code",
   "execution_count": 32,
   "metadata": {},
   "outputs": [
    {
     "name": "stdout",
     "output_type": "stream",
     "text": [
      "1    299021\n",
      "0    290000\n",
      "Name: Loan_Category_Bad, dtype: int64\n"
     ]
    }
   ],
   "source": [
    "import tensorflow as tf\n",
    "\n",
    "#Convert X,y dataframes to np.array\n",
    "\n",
    "data_good_loans = data.loc[data['Loan_Category_Bad']==0]\n",
    "data_bad_loans = data.loc[data['Loan_Category_Bad']==1]\n",
    "data_good_loans = data_good_loans.iloc[0:290000]\n",
    "\n",
    "data_final = pd.concat([data_good_loans, data_bad_loans])\n",
    "\n",
    "y = data_final['Loan_Category_Bad']\n",
    "X = data_final.drop(['Loan_Category_Bad'],axis=1)\n",
    "\n",
    "print (y.value_counts())\n",
    "\n",
    "X_list = X.values\n",
    "y_list = np.array(y)"
   ]
  },
  {
   "cell_type": "code",
   "execution_count": 33,
   "metadata": {},
   "outputs": [],
   "source": [
    "trainX_nn_2, testX_nn_2, trainY_nn_2, testY_nn_2 = train_test_split(X_list,y_list)"
   ]
  },
  {
   "cell_type": "code",
   "execution_count": 34,
   "metadata": {},
   "outputs": [
    {
     "name": "stdout",
     "output_type": "stream",
     "text": [
      "Train on 309235 samples, validate on 132530 samples\n",
      "Epoch 1/20\n",
      "309235/309235 [==============================] - 17s 54us/sample - loss: 0.6455 - accuracy: 0.9286 - val_loss: 0.0750 - val_accuracy: 0.9775\n",
      "Epoch 2/20\n",
      "309235/309235 [==============================] - 17s 54us/sample - loss: 0.0915 - accuracy: 0.9725 - val_loss: 0.1298 - val_accuracy: 0.9557\n",
      "Epoch 3/20\n",
      "309235/309235 [==============================] - 17s 54us/sample - loss: 0.0743 - accuracy: 0.9783 - val_loss: 0.0874 - val_accuracy: 0.9710\n",
      "Epoch 4/20\n",
      "309235/309235 [==============================] - 17s 54us/sample - loss: 0.0692 - accuracy: 0.9799 - val_loss: 0.0771 - val_accuracy: 0.9758\n",
      "Epoch 5/20\n",
      "309235/309235 [==============================] - 16s 53us/sample - loss: 0.0666 - accuracy: 0.9811 - val_loss: 0.0583 - val_accuracy: 0.9826\n",
      "Epoch 6/20\n",
      "309235/309235 [==============================] - 16s 53us/sample - loss: 0.0628 - accuracy: 0.9822 - val_loss: 0.0550 - val_accuracy: 0.9865\n",
      "Epoch 7/20\n",
      "309235/309235 [==============================] - 17s 55us/sample - loss: 0.0596 - accuracy: 0.9832 - val_loss: 0.0492 - val_accuracy: 0.9871\n",
      "Epoch 8/20\n",
      "309235/309235 [==============================] - 17s 55us/sample - loss: 0.0587 - accuracy: 0.9835 - val_loss: 0.0515 - val_accuracy: 0.9872\n",
      "Epoch 9/20\n",
      "309235/309235 [==============================] - 17s 54us/sample - loss: 0.0569 - accuracy: 0.9842 - val_loss: 0.0600 - val_accuracy: 0.9836\n",
      "Epoch 10/20\n",
      "309235/309235 [==============================] - 17s 54us/sample - loss: 0.0575 - accuracy: 0.9841 - val_loss: 0.0667 - val_accuracy: 0.9814\n",
      "Epoch 11/20\n",
      "309235/309235 [==============================] - 17s 54us/sample - loss: 0.0559 - accuracy: 0.9846 - val_loss: 0.0475 - val_accuracy: 0.9862\n",
      "Epoch 12/20\n",
      "309235/309235 [==============================] - 17s 54us/sample - loss: 0.0543 - accuracy: 0.9851 - val_loss: 0.0476 - val_accuracy: 0.9864\n",
      "Epoch 13/20\n",
      "309235/309235 [==============================] - 17s 54us/sample - loss: 0.0536 - accuracy: 0.9854 - val_loss: 0.0500 - val_accuracy: 0.9857\n",
      "Epoch 14/20\n",
      "309235/309235 [==============================] - 17s 54us/sample - loss: 0.0528 - accuracy: 0.9855 - val_loss: 0.0514 - val_accuracy: 0.9850\n",
      "Epoch 15/20\n",
      "309235/309235 [==============================] - 17s 54us/sample - loss: 0.0514 - accuracy: 0.9861 - val_loss: 0.0627 - val_accuracy: 0.9808\n",
      "Epoch 16/20\n",
      "309235/309235 [==============================] - 17s 54us/sample - loss: 0.0509 - accuracy: 0.9863 - val_loss: 0.0426 - val_accuracy: 0.9883\n",
      "Epoch 17/20\n",
      "309235/309235 [==============================] - 17s 53us/sample - loss: 0.0506 - accuracy: 0.9864 - val_loss: 0.0654 - val_accuracy: 0.9807\n",
      "Epoch 18/20\n",
      "309235/309235 [==============================] - 17s 54us/sample - loss: 0.0494 - accuracy: 0.9868 - val_loss: 0.0427 - val_accuracy: 0.9886\n",
      "Epoch 19/20\n",
      "309235/309235 [==============================] - 17s 54us/sample - loss: 0.0491 - accuracy: 0.9868 - val_loss: 0.0401 - val_accuracy: 0.9890\n",
      "Epoch 20/20\n",
      "309235/309235 [==============================] - 17s 54us/sample - loss: 0.0489 - accuracy: 0.9870 - val_loss: 0.0477 - val_accuracy: 0.9863\n",
      "Model: \"sequential_2\"\n",
      "_________________________________________________________________\n",
      "Layer (type)                 Output Shape              Param #   \n",
      "=================================================================\n",
      "dense_6 (Dense)              multiple                  26000     \n",
      "_________________________________________________________________\n",
      "dense_7 (Dense)              multiple                  30150     \n",
      "_________________________________________________________________\n",
      "dense_8 (Dense)              multiple                  151       \n",
      "=================================================================\n",
      "Total params: 56,301\n",
      "Trainable params: 56,301\n",
      "Non-trainable params: 0\n",
      "_________________________________________________________________\n"
     ]
    }
   ],
   "source": [
    "model = tf.keras.models.Sequential()\n",
    "model.add(tf.keras.layers.Dense(200, activation='relu'))\n",
    "model.add(tf.keras.layers.Dense(150, activation='relu'))\n",
    "model.add(tf.keras.layers.Dense(1, activation='sigmoid'))\n",
    "\n",
    "model.compile(optimizer='adam', loss='binary_crossentropy', metrics=['accuracy'])\n",
    "history_2 = model.fit (trainX_nn_2,trainY_nn_2, epochs=20, batch_size=32, validation_split=0.3)\n",
    "model.summary()"
   ]
  },
  {
   "cell_type": "code",
   "execution_count": 35,
   "metadata": {},
   "outputs": [
    {
     "name": "stdout",
     "output_type": "stream",
     "text": [
      "Confusion Matrix of NN model with balanced dataset is \n",
      " [[72428    93]\n",
      " [ 1934 72801]]\n",
      "Accuracy of NN model with balanced dataset is  0.9862348563046667\n",
      "Recall of NN model with balanced dataset is  0.9741218973707099\n",
      "F1-score of NN model with balanced dataset is  0.9862696353697444\n"
     ]
    }
   ],
   "source": [
    "predictedY_nn_2 = model.predict(testX_nn_2)\n",
    "predictedY_nn_2_argmaxed = []\n",
    "for p in predictedY_nn_2:\n",
    "    if p>.5 :\n",
    "        p = 1\n",
    "    else :\n",
    "        p =0\n",
    "    predictedY_nn_2_argmaxed.append(p)\n",
    "    \n",
    "print ('Confusion Matrix of NN model with balanced dataset is \\n',confusion_matrix(testY_nn_2, predictedY_nn_2_argmaxed))\n",
    "print ('Accuracy of NN model with balanced dataset is ',accuracy_score(testY_nn_2, predictedY_nn_2_argmaxed))\n",
    "print ('Recall of NN model with balanced dataset is ',recall_score(testY_nn_2, predictedY_nn_2_argmaxed))\n",
    "print ('F1-score of NN model with balanced dataset is ',f1_score(testY_nn_2, predictedY_nn_2_argmaxed))"
   ]
  },
  {
   "cell_type": "code",
   "execution_count": 36,
   "metadata": {},
   "outputs": [
    {
     "data": {
      "image/png": "[encoded data removed]",
      "text/plain": [
       "<Figure size 432x288 with 1 Axes>"
      ]
     },
     "metadata": {
      "needs_background": "light"
     },
     "output_type": "display_data"
    }
   ],
   "source": [
    "fpr_nn, tpr_nn, threshold_nn = roc_curve(testY_nn_2, predictedY_nn_2_argmaxed)\n",
    "show_roc_curve(fpr_nn, tpr_nn)\n"
   ]
  },
  {
   "cell_type": "code",
   "execution_count": 39,
   "metadata": {},
   "outputs": [
    {
     "data": {
      "image/png": "[encoded data removed]",
      "text/plain": [
       "<Figure size 432x288 with 2 Axes>"
      ]
     },
     "metadata": {
      "needs_background": "light"
     },
     "output_type": "display_data"
    }
   ],
   "source": [
    "import matplotlib.pyplot as plt\n",
    "%matplotlib inline\n",
    "\n",
    "figure = plt.figure()\n",
    "\n",
    "ax1 = figure.add_subplot(211)\n",
    "ax1.plot(history.history['accuracy'])\n",
    "ax1.plot(history.history['val_accuracy'])\n",
    "plt.xlabel('Epochs')\n",
    "plt.ylabel('Accuracy')\n",
    "plt.legend(labels=['Training','Validation'])\n",
    "\n",
    "ax1 = figure.add_subplot(212)\n",
    "ax1.plot(history.history['loss'])\n",
    "ax1.plot(history.history['val_loss'])\n",
    "plt.xlabel('Epochs')\n",
    "plt.ylabel('Loss')\n",
    "plt.legend(labels=['Training','Validation'])\n",
    "\n",
    "plt.show()"
   ]
  },
  {
   "cell_type": "code",
   "execution_count": null,
   "metadata": {},
   "outputs": [],
   "source": []
  }
 ],
 "metadata": {
  "kernelspec": {
   "display_name": "Python 3",
   "language": "python",
   "name": "python3"
  },
  "language_info": {
   "codemirror_mode": {
    "name": "ipython",
    "version": 3
   },
   "file_extension": ".py",
   "mimetype": "text/x-python",
   "name": "python",
   "nbconvert_exporter": "python",
   "pygments_lexer": "ipython3",
   "version": "3.7.3"
  }
 },
 "nbformat": 4,
 "nbformat_minor": 2
}
