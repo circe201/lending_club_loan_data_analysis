{
 "cells": [
  {
   "cell_type": "code",
   "execution_count": 1,
   "metadata": {},
   "outputs": [],
   "source": [
    "import pandas as pd\n",
    "import numpy as np\n",
    "import matplotlib.pyplot as plt\n",
    "import seaborn as sns"
   ]
  },
  {
   "cell_type": "code",
   "execution_count": 2,
   "metadata": {},
   "outputs": [
    {
     "data": {
      "text/plain": [
       "31"
      ]
     },
     "execution_count": 2,
     "metadata": {},
     "output_type": "execute_result"
    }
   ],
   "source": [
    "import gc\n",
    "gc.collect()"
   ]
  },
  {
   "cell_type": "code",
   "execution_count": 3,
   "metadata": {},
   "outputs": [
    {
     "name": "stdout",
     "output_type": "stream",
     "text": [
      "Appended 400k records\n",
      "Appended 400k records\n",
      "Appended 400k records\n",
      "Appended 400k records\n",
      "Appended 400k records\n",
      "Appended 400k records\n"
     ]
    }
   ],
   "source": [
    "df_chunk = pd.read_csv(r'./input/lending-club-loan-data/clean_encoded_loan.csv', chunksize=400000)\n",
    "chunk_list = []  # append each chunk df here \n",
    "\n",
    "# Each chunk is in df format\n",
    "for chunk in df_chunk:  \n",
    "    \n",
    "    # Once the data filtering is done, append the chunk to list\n",
    "    chunk_list.append(chunk)\n",
    "    print ('Appended 400k records')\n",
    "    \n",
    "# concat the list into dataframe \n",
    "df_concat = pd.concat(chunk_list)"
   ]
  },
  {
   "cell_type": "code",
   "execution_count": 4,
   "metadata": {},
   "outputs": [
    {
     "data": {
      "text/html": [
       "<div>\n",
       "<style scoped>\n",
       "    .dataframe tbody tr th:only-of-type {\n",
       "        vertical-align: middle;\n",
       "    }\n",
       "\n",
       "    .dataframe tbody tr th {\n",
       "        vertical-align: top;\n",
       "    }\n",
       "\n",
       "    .dataframe thead th {\n",
       "        text-align: right;\n",
       "    }\n",
       "</style>\n",
       "<table border=\"1\" class=\"dataframe\">\n",
       "  <thead>\n",
       "    <tr style=\"text-align: right;\">\n",
       "      <th></th>\n",
       "      <th>Unnamed: 0</th>\n",
       "      <th>loan_amnt</th>\n",
       "      <th>funded_amnt_inv</th>\n",
       "      <th>int_rate</th>\n",
       "      <th>installment</th>\n",
       "      <th>revol_bal</th>\n",
       "      <th>out_prncp</th>\n",
       "      <th>out_prncp_inv</th>\n",
       "      <th>total_pymnt</th>\n",
       "      <th>total_pymnt_inv</th>\n",
       "      <th>...</th>\n",
       "      <th>initial_list_status_f</th>\n",
       "      <th>initial_list_status_w</th>\n",
       "      <th>application_type_Individual</th>\n",
       "      <th>application_type_Joint App</th>\n",
       "      <th>hardship_flag_N</th>\n",
       "      <th>hardship_flag_Y</th>\n",
       "      <th>disbursement_method_Cash</th>\n",
       "      <th>disbursement_method_DirectPay</th>\n",
       "      <th>debt_settlement_flag_N</th>\n",
       "      <th>debt_settlement_flag_Y</th>\n",
       "    </tr>\n",
       "  </thead>\n",
       "  <tbody>\n",
       "    <tr>\n",
       "      <th>0</th>\n",
       "      <td>0</td>\n",
       "      <td>-1.365245</td>\n",
       "      <td>-1.362379</td>\n",
       "      <td>0.096663</td>\n",
       "      <td>-1.350761</td>\n",
       "      <td>-0.536748</td>\n",
       "      <td>-0.272970</td>\n",
       "      <td>-0.272873</td>\n",
       "      <td>-1.178714</td>\n",
       "      <td>-1.177453</td>\n",
       "      <td>...</td>\n",
       "      <td>0</td>\n",
       "      <td>1</td>\n",
       "      <td>1</td>\n",
       "      <td>0</td>\n",
       "      <td>1</td>\n",
       "      <td>0</td>\n",
       "      <td>1</td>\n",
       "      <td>0</td>\n",
       "      <td>1</td>\n",
       "      <td>0</td>\n",
       "    </tr>\n",
       "    <tr>\n",
       "      <th>1</th>\n",
       "      <td>1</td>\n",
       "      <td>1.627059</td>\n",
       "      <td>1.629246</td>\n",
       "      <td>1.210048</td>\n",
       "      <td>1.240475</td>\n",
       "      <td>-0.189271</td>\n",
       "      <td>3.304550</td>\n",
       "      <td>3.305101</td>\n",
       "      <td>-1.043209</td>\n",
       "      <td>-1.041882</td>\n",
       "      <td>...</td>\n",
       "      <td>0</td>\n",
       "      <td>1</td>\n",
       "      <td>1</td>\n",
       "      <td>0</td>\n",
       "      <td>1</td>\n",
       "      <td>0</td>\n",
       "      <td>1</td>\n",
       "      <td>0</td>\n",
       "      <td>1</td>\n",
       "      <td>0</td>\n",
       "    </tr>\n",
       "    <tr>\n",
       "      <th>2</th>\n",
       "      <td>2</td>\n",
       "      <td>-1.093217</td>\n",
       "      <td>-1.090413</td>\n",
       "      <td>1.009307</td>\n",
       "      <td>-0.992305</td>\n",
       "      <td>-0.525506</td>\n",
       "      <td>0.045169</td>\n",
       "      <td>0.045307</td>\n",
       "      <td>-1.159819</td>\n",
       "      <td>-1.158548</td>\n",
       "      <td>...</td>\n",
       "      <td>0</td>\n",
       "      <td>1</td>\n",
       "      <td>1</td>\n",
       "      <td>0</td>\n",
       "      <td>1</td>\n",
       "      <td>0</td>\n",
       "      <td>1</td>\n",
       "      <td>0</td>\n",
       "      <td>1</td>\n",
       "      <td>0</td>\n",
       "    </tr>\n",
       "    <tr>\n",
       "      <th>3</th>\n",
       "      <td>3</td>\n",
       "      <td>-1.202028</td>\n",
       "      <td>-1.199200</td>\n",
       "      <td>1.210048</td>\n",
       "      <td>-1.120236</td>\n",
       "      <td>-0.487638</td>\n",
       "      <td>-0.081398</td>\n",
       "      <td>-0.081276</td>\n",
       "      <td>-1.166612</td>\n",
       "      <td>-1.165344</td>\n",
       "      <td>...</td>\n",
       "      <td>0</td>\n",
       "      <td>1</td>\n",
       "      <td>1</td>\n",
       "      <td>0</td>\n",
       "      <td>1</td>\n",
       "      <td>0</td>\n",
       "      <td>1</td>\n",
       "      <td>0</td>\n",
       "      <td>1</td>\n",
       "      <td>0</td>\n",
       "    </tr>\n",
       "    <tr>\n",
       "      <th>4</th>\n",
       "      <td>4</td>\n",
       "      <td>1.627059</td>\n",
       "      <td>1.629246</td>\n",
       "      <td>0.630591</td>\n",
       "      <td>1.070361</td>\n",
       "      <td>-0.689788</td>\n",
       "      <td>3.298094</td>\n",
       "      <td>3.298643</td>\n",
       "      <td>-1.051693</td>\n",
       "      <td>-1.050370</td>\n",
       "      <td>...</td>\n",
       "      <td>0</td>\n",
       "      <td>1</td>\n",
       "      <td>1</td>\n",
       "      <td>0</td>\n",
       "      <td>1</td>\n",
       "      <td>0</td>\n",
       "      <td>1</td>\n",
       "      <td>0</td>\n",
       "      <td>1</td>\n",
       "      <td>0</td>\n",
       "    </tr>\n",
       "  </tbody>\n",
       "</table>\n",
       "<p>5 rows × 297 columns</p>\n",
       "</div>"
      ],
      "text/plain": [
       "   Unnamed: 0  loan_amnt  funded_amnt_inv  int_rate  installment  revol_bal  \\\n",
       "0           0  -1.365245        -1.362379  0.096663    -1.350761  -0.536748   \n",
       "1           1   1.627059         1.629246  1.210048     1.240475  -0.189271   \n",
       "2           2  -1.093217        -1.090413  1.009307    -0.992305  -0.525506   \n",
       "3           3  -1.202028        -1.199200  1.210048    -1.120236  -0.487638   \n",
       "4           4   1.627059         1.629246  0.630591     1.070361  -0.689788   \n",
       "\n",
       "   out_prncp  out_prncp_inv  total_pymnt  total_pymnt_inv  ...  \\\n",
       "0  -0.272970      -0.272873    -1.178714        -1.177453  ...   \n",
       "1   3.304550       3.305101    -1.043209        -1.041882  ...   \n",
       "2   0.045169       0.045307    -1.159819        -1.158548  ...   \n",
       "3  -0.081398      -0.081276    -1.166612        -1.165344  ...   \n",
       "4   3.298094       3.298643    -1.051693        -1.050370  ...   \n",
       "\n",
       "   initial_list_status_f  initial_list_status_w  application_type_Individual  \\\n",
       "0                      0                      1                            1   \n",
       "1                      0                      1                            1   \n",
       "2                      0                      1                            1   \n",
       "3                      0                      1                            1   \n",
       "4                      0                      1                            1   \n",
       "\n",
       "   application_type_Joint App  hardship_flag_N  hardship_flag_Y  \\\n",
       "0                           0                1                0   \n",
       "1                           0                1                0   \n",
       "2                           0                1                0   \n",
       "3                           0                1                0   \n",
       "4                           0                1                0   \n",
       "\n",
       "   disbursement_method_Cash  disbursement_method_DirectPay  \\\n",
       "0                         1                              0   \n",
       "1                         1                              0   \n",
       "2                         1                              0   \n",
       "3                         1                              0   \n",
       "4                         1                              0   \n",
       "\n",
       "   debt_settlement_flag_N  debt_settlement_flag_Y  \n",
       "0                       1                       0  \n",
       "1                       1                       0  \n",
       "2                       1                       0  \n",
       "3                       1                       0  \n",
       "4                       1                       0  \n",
       "\n",
       "[5 rows x 297 columns]"
      ]
     },
     "execution_count": 4,
     "metadata": {},
     "output_type": "execute_result"
    }
   ],
   "source": [
    "df_concat.shape\n",
    "df_concat.head()"
   ]
  },
  {
   "cell_type": "code",
   "execution_count": 5,
   "metadata": {},
   "outputs": [],
   "source": [
    "del df_chunk\n",
    "del chunk_list"
   ]
  },
  {
   "cell_type": "code",
   "execution_count": 6,
   "metadata": {},
   "outputs": [],
   "source": [
    "y = df_concat['funded_amnt']\n",
    "X = df_concat.drop(['funded_amnt'],axis=1)"
   ]
  },
  {
   "cell_type": "code",
   "execution_count": 7,
   "metadata": {},
   "outputs": [],
   "source": [
    "del df_concat"
   ]
  },
  {
   "cell_type": "markdown",
   "metadata": {},
   "source": [
    "# Split data in test & train"
   ]
  },
  {
   "cell_type": "code",
   "execution_count": 8,
   "metadata": {},
   "outputs": [
    {
     "name": "stderr",
     "output_type": "stream",
     "text": [
      "C:\\MachineLearning\\anaconda\\lib\\site-packages\\xgboost\\core.py:587: FutureWarning: Series.base is deprecated and will be removed in a future version\n",
      "  if getattr(data, 'base', None) is not None and \\\n"
     ]
    }
   ],
   "source": [
    "import xgboost as xb\n",
    "\n",
    "from sklearn.model_selection import train_test_split\n",
    "trainX, testX, trainY, testY = train_test_split(X,y)\n",
    "\n",
    "del X\n",
    "del y\n",
    "\n",
    "dTrainMatrix = xb.DMatrix(trainX, trainY)\n",
    "dTestMatrix = xb.DMatrix(testX, testY)"
   ]
  },
  {
   "cell_type": "markdown",
   "metadata": {},
   "source": [
    "# Run 1 - Baseline numbers without any model tuning"
   ]
  },
  {
   "cell_type": "code",
   "execution_count": 10,
   "metadata": {},
   "outputs": [
    {
     "name": "stdout",
     "output_type": "stream",
     "text": [
      "89.35998947633239\n"
     ]
    }
   ],
   "source": [
    "from time import time\n",
    "from sklearn.metrics import mean_squared_error\n",
    "\n",
    "params = {\"learning_rate\":\"0.01\", \"objective\":\"reg:linear\",\"n_estimators\":\"10\"}\n",
    "model = xb.train(params=params, dtrain=dTrainMatrix)\n",
    "predictedY = model.predict(data=dTestMatrix) \n",
    "\n",
    "rmse = np.sqrt(mean_squared_error(testY, predictedY))\n",
    "print (rmse)"
   ]
  },
  {
   "cell_type": "code",
   "execution_count": null,
   "metadata": {},
   "outputs": [],
   "source": []
  },
  {
   "cell_type": "markdown",
   "metadata": {},
   "source": [
    "# Plot Feature Importance"
   ]
  },
  {
   "cell_type": "code",
   "execution_count": 12,
   "metadata": {},
   "outputs": [
    {
     "data": {
      "text/plain": [
       "<matplotlib.axes._subplots.AxesSubplot at 0x2018d3b2a20>"
      ]
     },
     "execution_count": 12,
     "metadata": {},
     "output_type": "execute_result"
    },
    {
     "data": {
      "image/png": "[encoded data removed]",
      "text/plain": [
       "<Figure size 432x288 with 1 Axes>"
      ]
     },
     "metadata": {
      "needs_background": "light"
     },
     "output_type": "display_data"
    }
   ],
   "source": [
    "xb.plot_importance(model)"
   ]
  },
  {
   "cell_type": "code",
   "execution_count": 13,
   "metadata": {},
   "outputs": [],
   "source": [
    "import pickle\n",
    "\n",
    "# save model to file\n",
    "pickle.dump(model, open(\"lendingclub.pickle.dat\", \"wb\"))"
   ]
  },
  {
   "cell_type": "code",
   "execution_count": null,
   "metadata": {},
   "outputs": [],
   "source": [
    "boosting_rounds = [3,5,7,9,15,20,25,30]\n",
    "untunedParams = {\"objective\":\"reg:linear\",\"nfold\":\"3\"}\n",
    "metric_values = []\n",
    "\n",
    "for rounds in boosting_rounds:\n",
    "    cv_result = xb.cv(params=untunedParams, dtrain=dTrainMatrix, metrics='mae', num_boost_round=rounds, as_pandas=True)\n",
    "    metric_values.append(cv_result['test-mae-std'].tail().values[-1])\n",
    "    \n",
    "df = pd.DataFrame(data=list(zip(boosting_rounds, metric_values)), columns=['Boosting Rounds','MAE'])\n",
    "print (df)"
   ]
  },
  {
   "cell_type": "code",
   "execution_count": null,
   "metadata": {},
   "outputs": [],
   "source": []
  }
 ],
 "metadata": {
  "kernelspec": {
   "display_name": "Python 3",
   "language": "python",
   "name": "python3"
  },
  "language_info": {
   "codemirror_mode": {
    "name": "ipython",
    "version": 3
   },
   "file_extension": ".py",
   "mimetype": "text/x-python",
   "name": "python",
   "nbconvert_exporter": "python",
   "pygments_lexer": "ipython3",
   "version": "3.7.3"
  }
 },
 "nbformat": 4,
 "nbformat_minor": 2
}
