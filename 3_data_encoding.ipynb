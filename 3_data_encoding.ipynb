{
 "cells": [
  {
   "cell_type": "code",
   "execution_count": 1,
   "metadata": {},
   "outputs": [],
   "source": [
    "import pandas as pd\n",
    "import numpy as np\n",
    "import matplotlib.pyplot as plt\n",
    "import seaborn as sns\n",
    "%matplotlib inline"
   ]
  },
  {
   "cell_type": "code",
   "execution_count": 2,
   "metadata": {},
   "outputs": [
    {
     "data": {
      "text/plain": [
       "35"
      ]
     },
     "execution_count": 2,
     "metadata": {},
     "output_type": "execute_result"
    }
   ],
   "source": [
    "import gc\n",
    "gc.collect()"
   ]
  },
  {
   "cell_type": "code",
   "execution_count": 3,
   "metadata": {},
   "outputs": [],
   "source": [
    "data = pd.read_csv('./input/lending-club-loan-data/loan_enhanced.csv', low_memory=False)\n",
    "data.head(5)\n",
    "data = data.drop(['Unnamed: 0'],axis=1)\n",
    "data = data.fillna(0)"
   ]
  },
  {
   "cell_type": "markdown",
   "metadata": {},
   "source": [
    "### Approach to Scaling & Encoding:\n",
    "\n",
    "1. Drop categorical columns from the dataframe\n",
    "2. Scale rest of the columns\n",
    "3. Add the dropped columns back in the dataframe\n",
    "4. Encode the categorical columns"
   ]
  },
  {
   "cell_type": "code",
   "execution_count": 4,
   "metadata": {},
   "outputs": [],
   "source": [
    "data_continous_features = data.drop(['last_pymnt_d','next_pymnt_d','last_credit_pull_d','term','grade','home_ownership',\n",
    "                              'verification_status','pymnt_plan','initial_list_status','application_type',\n",
    "                              'disbursement_method','debt_settlement_flag','Loan_Category','Loan_Purpose',\n",
    "                              'Interest_Rate_Slabs','region'], axis=1)\n",
    "\n",
    "data_cat_features = data[['last_pymnt_d','next_pymnt_d','last_credit_pull_d','term','grade','home_ownership',\n",
    "                              'verification_status','pymnt_plan','initial_list_status','application_type',\n",
    "                              'disbursement_method','debt_settlement_flag','Loan_Category','Loan_Purpose',\n",
    "                              'Interest_Rate_Slabs','region']]"
   ]
  },
  {
   "cell_type": "code",
   "execution_count": 5,
   "metadata": {},
   "outputs": [
    {
     "name": "stdout",
     "output_type": "stream",
     "text": [
      "(2260668, 84)\n",
      "(2260668, 16)\n"
     ]
    }
   ],
   "source": [
    "print (data_continous_features.shape)\n",
    "print (data_cat_features.shape)"
   ]
  },
  {
   "cell_type": "code",
   "execution_count": 6,
   "metadata": {},
   "outputs": [
    {
     "name": "stdout",
     "output_type": "stream",
     "text": [
      "Starting scaling of numeric features..\n"
     ]
    },
    {
     "name": "stderr",
     "output_type": "stream",
     "text": [
      "C:\\MachineLearning\\anaconda\\lib\\site-packages\\sklearn\\preprocessing\\data.py:645: DataConversionWarning: Data with input dtype int64, float64 were all converted to float64 by StandardScaler.\n",
      "  return self.partial_fit(X, y)\n",
      "C:\\MachineLearning\\anaconda\\lib\\site-packages\\sklearn\\base.py:464: DataConversionWarning: Data with input dtype int64, float64 were all converted to float64 by StandardScaler.\n",
      "  return self.fit(X, **fit_params).transform(X)\n"
     ]
    },
    {
     "name": "stdout",
     "output_type": "stream",
     "text": [
      "Ending scaling of numeric features..\n"
     ]
    }
   ],
   "source": [
    "from sklearn.preprocessing import StandardScaler\n",
    "scaler = StandardScaler()\n",
    "\n",
    "print ('Starting scaling of numeric features..')\n",
    "\n",
    "#data_scaled = scaler.fit_transform(data[['funded_amnt','annual_inc','loan_amnt','funded_amnt_inv','installment','revol_bal','out_prncp','out_prncp_inv','total_pymnt','total_pymnt_inv','total_rec_prncp','total_rec_int','total_rec_late_fee','recoveries','collection_recovery_fee','last_pymnt_amnt','policy_code','last_pymnt_d_year','next_pymnt_d_year','last_credit_pull_d_year','dti','revol_util','tot_cur_bal','total_bal_il','max_bal_bc','total_rev_hi_lim','avg_cur_bal','bc_open_to_buy','mo_sin_old_il_acct','mo_sin_old_rev_tl_op','tot_hi_cred_lim','total_bal_ex_mort','total_bc_limit','total_il_high_credit_limit','issue_year']])\n",
    "#data_scaled_df = pd.DataFrame(data=data_scaled, columns=['funded_amnt','annual_inc','loan_amnt','funded_amnt_inv','installment','revol_bal','out_prncp','out_prncp_inv','total_pymnt','total_pymnt_inv','total_rec_prncp','total_rec_int','total_rec_late_fee','recoveries','collection_recovery_fee','last_pymnt_amnt','policy_code','last_pymnt_d_year','next_pymnt_d_year','last_credit_pull_d_year','dti','revol_util','tot_cur_bal','total_bal_il','max_bal_bc','total_rev_hi_lim','avg_cur_bal','bc_open_to_buy','mo_sin_old_il_acct','mo_sin_old_rev_tl_op','tot_hi_cred_lim','total_bal_ex_mort','total_bc_limit','total_il_high_credit_limit','issue_year'])\n",
    "#reduced_data = data.drop(['funded_amnt','annual_inc','loan_amnt','funded_amnt_inv','installment','revol_bal','out_prncp','out_prncp_inv','total_pymnt','total_pymnt_inv','total_rec_prncp','total_rec_int','total_rec_late_fee','recoveries','collection_recovery_fee','last_pymnt_amnt','policy_code','last_pymnt_d_year','next_pymnt_d_year','last_credit_pull_d_year','dti','revol_util','tot_cur_bal','total_bal_il','max_bal_bc','total_rev_hi_lim','avg_cur_bal','bc_open_to_buy','mo_sin_old_il_acct','mo_sin_old_rev_tl_op','tot_hi_cred_lim','total_bal_ex_mort','total_bc_limit','total_il_high_credit_limit','issue_year'],axis=1)\n",
    "#data_scaled = pd.concat([data_scaled_df, reduced_data],axis=1)\n",
    "#data_scaled = pd.DataFrame(data_scaled, columns=data.columns)\n",
    "\n",
    "data_continous_features_array = scaler.fit_transform(data_continous_features)\n",
    "data_continous_features = pd.DataFrame(data_continous_features_array, columns=data_continous_features.columns)\n",
    "print ('Ending scaling of numeric features..')\n"
   ]
  },
  {
   "cell_type": "code",
   "execution_count": 7,
   "metadata": {},
   "outputs": [],
   "source": [
    "def label_encode_features (data, feature):\n",
    "    tmp_feature = pd.get_dummies(data[feature], prefix = feature, prefix_sep='_')\n",
    "    tmp_feature_df = pd.DataFrame(data=tmp_feature)\n",
    "\n",
    "    data_tmp = pd.concat([data, tmp_feature_df],axis=1)\n",
    "    return data_tmp.drop([feature],axis=1)"
   ]
  },
  {
   "cell_type": "code",
   "execution_count": 8,
   "metadata": {},
   "outputs": [
    {
     "name": "stdout",
     "output_type": "stream",
     "text": [
      "Starting to encode categorical features...\n",
      "(2260668, 16)\n",
      "Ended encoding categorical features...\n",
      "(2260668, 44)\n"
     ]
    }
   ],
   "source": [
    "print ('Starting to encode categorical features...')\n",
    "print (data_cat_features.shape)\n",
    "data_cat_features = label_encode_features(data_cat_features, 'term')\n",
    "data_cat_features = label_encode_features(data_cat_features, 'grade') \n",
    "data_cat_features = label_encode_features(data_cat_features, 'home_ownership')\n",
    "data_cat_features = label_encode_features(data_cat_features, 'verification_status')\n",
    "data_cat_features = label_encode_features(data_cat_features, 'pymnt_plan')\n",
    "data_cat_features = label_encode_features(data_cat_features, 'initial_list_status')\n",
    "data_cat_features = label_encode_features(data_cat_features, 'application_type')\n",
    "data_cat_features = label_encode_features(data_cat_features, 'disbursement_method')\n",
    "data_cat_features = label_encode_features(data_cat_features, 'debt_settlement_flag')\n",
    "data_cat_features = label_encode_features(data_cat_features, 'Loan_Category')\n",
    "data_cat_features = label_encode_features(data_cat_features, 'Loan_Purpose')\n",
    "data_cat_features = label_encode_features(data_cat_features, 'Interest_Rate_Slabs')\n",
    "data_cat_features = label_encode_features(data_cat_features, 'region')\n",
    "print ('Ended encoding categorical features...')\n",
    "print (data_cat_features.shape)"
   ]
  },
  {
   "cell_type": "code",
   "execution_count": 9,
   "metadata": {},
   "outputs": [
    {
     "name": "stdout",
     "output_type": "stream",
     "text": [
      "Starting to expand date features ..\n",
      "Done expanding, now starting to drop old date features\n"
     ]
    }
   ],
   "source": [
    "def convert_data_to_month_year(data, feature):\n",
    "    tmp_series = pd.to_datetime(data[feature])\n",
    "    mth = feature+'_month'\n",
    "    yr = feature+'_year'\n",
    "    data[mth] = tmp_series.dt.month\n",
    "    data[yr] = tmp_series.dt.year\n",
    "    return data\n",
    "\n",
    "print ('Starting to expand date features ..')\n",
    "data_cat_features = convert_data_to_month_year(data_cat_features, 'last_pymnt_d')\n",
    "data_cat_features = convert_data_to_month_year(data_cat_features, 'next_pymnt_d')\n",
    "data_cat_features = convert_data_to_month_year(data_cat_features, 'last_credit_pull_d')\n",
    "\n",
    "print ('Done expanding, now starting to drop old date features')\n",
    "\n",
    "data_cat_features = data_cat_features.drop(['last_pymnt_d','next_pymnt_d','last_credit_pull_d'], axis=1)"
   ]
  },
  {
   "cell_type": "code",
   "execution_count": 10,
   "metadata": {},
   "outputs": [],
   "source": [
    "data_scaled = pd.concat([data_cat_features, data_continous_features],axis=1)"
   ]
  },
  {
   "cell_type": "code",
   "execution_count": 12,
   "metadata": {},
   "outputs": [],
   "source": [
    "data_scaled.to_csv('./input/lending-club-loan-data/loan_encoded.csv')"
   ]
  },
  {
   "cell_type": "code",
   "execution_count": null,
   "metadata": {},
   "outputs": [],
   "source": [
    "import gc\n",
    "gc.collect()"
   ]
  },
  {
   "cell_type": "code",
   "execution_count": null,
   "metadata": {},
   "outputs": [],
   "source": []
  }
 ],
 "metadata": {
  "kernelspec": {
   "display_name": "Python 3",
   "language": "python",
   "name": "python3"
  },
  "language_info": {
   "codemirror_mode": {
    "name": "ipython",
    "version": 3
   },
   "file_extension": ".py",
   "mimetype": "text/x-python",
   "name": "python",
   "nbconvert_exporter": "python",
   "pygments_lexer": "ipython3",
   "version": "3.7.3"
  }
 },
 "nbformat": 4,
 "nbformat_minor": 2
}
