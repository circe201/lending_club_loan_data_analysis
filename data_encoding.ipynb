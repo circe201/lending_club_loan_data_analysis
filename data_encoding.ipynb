{
 "cells": [
  {
   "cell_type": "code",
   "execution_count": 1,
   "metadata": {},
   "outputs": [],
   "source": [
    "import pandas as pd\n",
    "import numpy as np\n",
    "import matplotlib.pyplot as plt\n",
    "import seaborn as sns\n",
    "%matplotlib inline"
   ]
  },
  {
   "cell_type": "code",
   "execution_count": 2,
   "metadata": {},
   "outputs": [
    {
     "data": {
      "text/plain": [
       "35"
      ]
     },
     "execution_count": 2,
     "metadata": {},
     "output_type": "execute_result"
    }
   ],
   "source": [
    "import gc\n",
    "gc.collect()"
   ]
  },
  {
   "cell_type": "code",
   "execution_count": 3,
   "metadata": {},
   "outputs": [],
   "source": [
    "data = pd.read_csv('./input/lending-club-loan-data/loan_enhanced.csv', low_memory=False)\n",
    "data.head(5)\n",
    "data = data.drop(['Unnamed: 0'],axis=1)"
   ]
  },
  {
   "cell_type": "code",
   "execution_count": 4,
   "metadata": {},
   "outputs": [
    {
     "name": "stdout",
     "output_type": "stream",
     "text": [
      "Starting to expand date features ..\n",
      "Done expanding, now starting to drop old date features\n"
     ]
    }
   ],
   "source": [
    "def convert_data_to_month_year(data, feature):\n",
    "    tmp_series = pd.to_datetime(data[feature])\n",
    "    mth = feature+'_month'\n",
    "    yr = feature+'_year'\n",
    "    data[mth] = tmp_series.dt.month\n",
    "    data[yr] = tmp_series.dt.year\n",
    "    return data\n",
    "\n",
    "print ('Starting to expand date features ..')\n",
    "data = convert_data_to_month_year(data, 'last_pymnt_d')\n",
    "data = convert_data_to_month_year(data, 'next_pymnt_d')\n",
    "data = convert_data_to_month_year(data, 'last_credit_pull_d')\n",
    "\n",
    "print ('Done expanding, now starting to drop old date features')\n",
    "\n",
    "data = data.drop(['last_pymnt_d','next_pymnt_d','last_credit_pull_d'], axis=1)"
   ]
  },
  {
   "cell_type": "code",
   "execution_count": 5,
   "metadata": {},
   "outputs": [],
   "source": [
    "def label_encode_features (data, feature):\n",
    "    tmp_feature = pd.get_dummies(data[feature], prefix = feature, prefix_sep='_')\n",
    "    tmp_feature_df = pd.DataFrame(data=tmp_feature)\n",
    "\n",
    "    data_tmp = pd.concat([data, tmp_feature_df],axis=1)\n",
    "    return data_tmp.drop([feature],axis=1)"
   ]
  },
  {
   "cell_type": "code",
   "execution_count": 6,
   "metadata": {},
   "outputs": [
    {
     "name": "stdout",
     "output_type": "stream",
     "text": [
      "Starting to encode categorical features...\n",
      "(2260668, 103)\n",
      "Ended encoding categorical features...\n",
      "(2260668, 131)\n"
     ]
    }
   ],
   "source": [
    "print ('Starting to encode categorical features...')\n",
    "print (data.shape)\n",
    "data = label_encode_features(data, 'term')\n",
    "data = label_encode_features(data, 'grade') \n",
    "data = label_encode_features(data, 'home_ownership')\n",
    "data = label_encode_features(data, 'verification_status')\n",
    "data = label_encode_features(data, 'pymnt_plan')\n",
    "data = label_encode_features(data, 'initial_list_status')\n",
    "data = label_encode_features(data, 'application_type')\n",
    "data = label_encode_features(data, 'disbursement_method')\n",
    "data = label_encode_features(data, 'debt_settlement_flag')\n",
    "data = label_encode_features(data, 'Loan_Category')\n",
    "data = label_encode_features(data, 'Loan_Purpose')\n",
    "data = label_encode_features(data, 'Interest_Rate_Slabs')\n",
    "data = label_encode_features(data, 'region')\n",
    "print ('Ended encoding categorical features...')\n",
    "print (data.shape)"
   ]
  },
  {
   "cell_type": "code",
   "execution_count": 7,
   "metadata": {},
   "outputs": [
    {
     "name": "stdout",
     "output_type": "stream",
     "text": [
      "Starting scaling of numeric features..\n"
     ]
    },
    {
     "name": "stderr",
     "output_type": "stream",
     "text": [
      "C:\\MachineLearning\\anaconda\\lib\\site-packages\\sklearn\\preprocessing\\data.py:645: DataConversionWarning: Data with input dtype int64, float64 were all converted to float64 by StandardScaler.\n",
      "  return self.partial_fit(X, y)\n",
      "C:\\MachineLearning\\anaconda\\lib\\site-packages\\sklearn\\base.py:464: DataConversionWarning: Data with input dtype int64, float64 were all converted to float64 by StandardScaler.\n",
      "  return self.fit(X, **fit_params).transform(X)\n"
     ]
    },
    {
     "name": "stdout",
     "output_type": "stream",
     "text": [
      "Ending scaling of numeric features..\n"
     ]
    }
   ],
   "source": [
    "from sklearn.preprocessing import StandardScaler\n",
    "scaler = StandardScaler()\n",
    "\n",
    "print ('Starting scaling of numeric features..')\n",
    "\n",
    "data_scaled = scaler.fit_transform(data[['loan_amnt','funded_amnt_inv','installment','revol_bal','out_prncp','out_prncp_inv','total_pymnt','total_pymnt_inv','total_rec_prncp','total_rec_int','total_rec_late_fee','recoveries','collection_recovery_fee','last_pymnt_amnt','policy_code','last_pymnt_d_year','next_pymnt_d_year','last_credit_pull_d_year']])\n",
    "data_scaled_df = pd.DataFrame(data=data_scaled, columns=['loan_amnt','funded_amnt_inv','installment','revol_bal','out_prncp','out_prncp_inv','total_pymnt','total_pymnt_inv','total_rec_prncp','total_rec_int','total_rec_late_fee','recoveries','collection_recovery_fee','last_pymnt_amnt','policy_code','last_pymnt_d_year','next_pymnt_d_year','last_credit_pull_d_year'])\n",
    "\n",
    "reduced_data = data.drop(['loan_amnt','funded_amnt_inv','installment','revol_bal','out_prncp','out_prncp_inv','total_pymnt','total_pymnt_inv','total_rec_prncp','total_rec_int','total_rec_late_fee','recoveries','collection_recovery_fee','last_pymnt_amnt','policy_code','last_pymnt_d_year','next_pymnt_d_year','last_credit_pull_d_year'],axis=1)\n",
    "data_scaled = pd.concat([data_scaled_df, reduced_data],axis=1)\n",
    "\n",
    "data_scaled = pd.DataFrame(data_scaled, columns=data.columns)\n",
    "\n",
    "print ('Ending scaling of numeric features..')\n"
   ]
  },
  {
   "cell_type": "code",
   "execution_count": null,
   "metadata": {},
   "outputs": [],
   "source": [
    "data_scaled.to_csv('./input/lending-club-loan-data/loan_encoded.csv')"
   ]
  },
  {
   "cell_type": "code",
   "execution_count": null,
   "metadata": {},
   "outputs": [],
   "source": [
    "import gc\n",
    "gc.collect()"
   ]
  },
  {
   "cell_type": "code",
   "execution_count": null,
   "metadata": {},
   "outputs": [],
   "source": []
  }
 ],
 "metadata": {
  "kernelspec": {
   "display_name": "Python 3",
   "language": "python",
   "name": "python3"
  },
  "language_info": {
   "codemirror_mode": {
    "name": "ipython",
    "version": 3
   },
   "file_extension": ".py",
   "mimetype": "text/x-python",
   "name": "python",
   "nbconvert_exporter": "python",
   "pygments_lexer": "ipython3",
   "version": "3.7.3"
  }
 },
 "nbformat": 4,
 "nbformat_minor": 2
}
