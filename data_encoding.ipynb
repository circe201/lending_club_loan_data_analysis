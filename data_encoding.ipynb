{
 "cells": [
  {
   "cell_type": "code",
   "execution_count": null,
   "metadata": {},
   "outputs": [],
   "source": [
    "import pandas as pd\n",
    "import numpy as np\n",
    "import matplotlib.pyplot as plt\n",
    "import seaborn as sns"
   ]
  },
  {
   "cell_type": "code",
   "execution_count": null,
   "metadata": {},
   "outputs": [],
   "source": [
    "data = pd.read_csv('./input/lending-club-loan-data/clean_loan.csv', low_memory=False)\n",
    "data.head()"
   ]
  },
  {
   "cell_type": "code",
   "execution_count": null,
   "metadata": {},
   "outputs": [],
   "source": [
    "data.dtypes"
   ]
  },
  {
   "cell_type": "code",
   "execution_count": null,
   "metadata": {},
   "outputs": [],
   "source": [
    "def label_encode_features (data, feature):\n",
    "    tmp_feature = pd.get_dummies(data[feature], prefix = feature, prefix_sep='_')\n",
    "    tmp_feature_df = pd.DataFrame(data=tmp_feature)\n",
    "\n",
    "    data_tmp = pd.concat([data, tmp_feature_df],axis=1)\n",
    "    return data_tmp.drop([feature],axis=1)"
   ]
  },
  {
   "cell_type": "code",
   "execution_count": null,
   "metadata": {},
   "outputs": [],
   "source": [
    "print (data.shape)\n",
    "data = label_encode_features(data, 'term')\n",
    "data = label_encode_features(data, 'grade')\n",
    "data = label_encode_features(data, 'sub_grade')\n",
    "data = label_encode_features(data, 'home_ownership')\n",
    "data = label_encode_features(data, 'verification_status')\n",
    "data = label_encode_features(data, 'issue_d')\n",
    "data = label_encode_features(data, 'loan_status')\n",
    "data = label_encode_features(data, 'pymnt_plan')\n",
    "data = label_encode_features(data, 'purpose')\n",
    "data = label_encode_features(data, 'addr_state')\n",
    "data = label_encode_features(data, 'initial_list_status')\n",
    "data = label_encode_features(data, 'application_type')\n",
    "data = label_encode_features(data, 'hardship_flag')\n",
    "data = label_encode_features(data, 'disbursement_method')\n",
    "data = label_encode_features(data, 'debt_settlement_flag')\n",
    "print (data.shape)"
   ]
  },
  {
   "cell_type": "code",
   "execution_count": null,
   "metadata": {},
   "outputs": [],
   "source": [
    "from sklearn.preprocessing import StandardScaler\n",
    "scaler = StandardScaler()\n",
    "\n",
    "data_scaled = scaler.fit_transform(data[['loan_amnt','funded_amnt_inv','int_rate','installment','revol_bal','out_prncp','out_prncp_inv','total_pymnt','total_pymnt_inv','total_rec_prncp','total_rec_int','total_rec_late_fee','recoveries','collection_recovery_fee','last_pymnt_amnt','policy_code']])\n",
    "data_scaled_df = pd.DataFrame(data=data_scaled, columns=['loan_amnt','funded_amnt_inv','int_rate','installment','revol_bal','out_prncp','out_prncp_inv','total_pymnt','total_pymnt_inv','total_rec_prncp','total_rec_int','total_rec_late_fee','recoveries','collection_recovery_fee','last_pymnt_amnt','policy_code'])\n",
    "\n",
    "reduced_data = data.drop(['loan_amnt','funded_amnt_inv','int_rate','installment','revol_bal','out_prncp','out_prncp_inv','total_pymnt','total_pymnt_inv','total_rec_prncp','total_rec_int','total_rec_late_fee','recoveries','collection_recovery_fee','last_pymnt_amnt','policy_code'],axis=1)\n",
    "data_scaled = pd.concat([data_scaled_df, reduced_data],axis=1)\n",
    "\n",
    "#data_scaled = pd.DataFrame(data_scaled, columns=data.columns)"
   ]
  },
  {
   "cell_type": "code",
   "execution_count": null,
   "metadata": {},
   "outputs": [],
   "source": [
    "data_scaled.to_csv('./input/lending-club-loan-data/clean_encoded_loan.csv')"
   ]
  },
  {
   "cell_type": "code",
   "execution_count": 1,
   "metadata": {},
   "outputs": [
    {
     "data": {
      "text/plain": [
       "57"
      ]
     },
     "execution_count": 1,
     "metadata": {},
     "output_type": "execute_result"
    }
   ],
   "source": [
    "import gc\n",
    "gc.collect()"
   ]
  },
  {
   "cell_type": "code",
   "execution_count": null,
   "metadata": {},
   "outputs": [],
   "source": []
  }
 ],
 "metadata": {
  "kernelspec": {
   "display_name": "Python 3",
   "language": "python",
   "name": "python3"
  },
  "language_info": {
   "codemirror_mode": {
    "name": "ipython",
    "version": 3
   },
   "file_extension": ".py",
   "mimetype": "text/x-python",
   "name": "python",
   "nbconvert_exporter": "python",
   "pygments_lexer": "ipython3",
   "version": "3.7.3"
  }
 },
 "nbformat": 4,
 "nbformat_minor": 2
}
